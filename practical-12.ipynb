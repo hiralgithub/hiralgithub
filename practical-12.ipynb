{
 "cells": [
  {
   "cell_type": "code",
   "execution_count": 1,
   "id": "75b035b1",
   "metadata": {
    "_cell_guid": "b1076dfc-b9ad-4769-8c92-a6c4dae69d19",
    "_uuid": "8f2839f25d086af736a60e9eeb907d3b93b6e0e5",
    "execution": {
     "iopub.execute_input": "2023-11-06T08:23:00.475386Z",
     "iopub.status.busy": "2023-11-06T08:23:00.474958Z",
     "iopub.status.idle": "2023-11-06T08:23:00.976696Z",
     "shell.execute_reply": "2023-11-06T08:23:00.975025Z"
    },
    "papermill": {
     "duration": 0.509164,
     "end_time": "2023-11-06T08:23:00.979881",
     "exception": false,
     "start_time": "2023-11-06T08:23:00.470717",
     "status": "completed"
    },
    "tags": []
   },
   "outputs": [
    {
     "name": "stdout",
     "output_type": "stream",
     "text": [
      "\n",
      "Keys of Stock dataset:\n",
      "Index(['Date', 'Open', 'High', 'Low', 'Close', 'Adj Close', 'Volume'], dtype='object')\n",
      "\n",
      "Number of rows and columns of Stock dataset:\n",
      "(127, 7)\n"
     ]
    }
   ],
   "source": [
    "#######################################################################################################\n",
    "#Name : - Hiral Shingadiya \n",
    "#Enrollment :- 216270307061\n",
    "#######################################################################################################\n",
    "\n",
    "import pandas as pd\n",
    "\n",
    "iris_data = pd.read_csv(\"../input/stock-csv/stock.csv\")\n",
    "\n",
    "print(\"\\nKeys of Stock dataset:\")\n",
    "print(iris_data.keys())\n",
    "\n",
    "print(\"\\nNumber of rows and columns of Stock dataset:\")\n",
    "print(iris_data.shape)"
   ]
  }
 ],
 "metadata": {
  "kernelspec": {
   "display_name": "Python 3",
   "language": "python",
   "name": "python3"
  },
  "language_info": {
   "codemirror_mode": {
    "name": "ipython",
    "version": 3
   },
   "file_extension": ".py",
   "mimetype": "text/x-python",
   "name": "python",
   "nbconvert_exporter": "python",
   "pygments_lexer": "ipython3",
   "version": "3.10.12"
  },
  "papermill": {
   "default_parameters": {},
   "duration": 5.105266,
   "end_time": "2023-11-06T08:23:01.606118",
   "environment_variables": {},
   "exception": null,
   "input_path": "__notebook__.ipynb",
   "output_path": "__notebook__.ipynb",
   "parameters": {},
   "start_time": "2023-11-06T08:22:56.500852",
   "version": "2.4.0"
  }
 },
 "nbformat": 4,
 "nbformat_minor": 5
}
