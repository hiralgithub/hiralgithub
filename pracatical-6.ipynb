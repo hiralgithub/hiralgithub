{
 "cells": [
  {
   "cell_type": "code",
   "execution_count": 1,
   "id": "14bdacd8",
   "metadata": {
    "_cell_guid": "b1076dfc-b9ad-4769-8c92-a6c4dae69d19",
    "_uuid": "8f2839f25d086af736a60e9eeb907d3b93b6e0e5",
    "execution": {
     "iopub.execute_input": "2023-10-25T09:24:36.687654Z",
     "iopub.status.busy": "2023-10-25T09:24:36.686874Z",
     "iopub.status.idle": "2023-10-25T09:24:37.116556Z",
     "shell.execute_reply": "2023-10-25T09:24:37.115170Z"
    },
    "papermill": {
     "duration": 0.438005,
     "end_time": "2023-10-25T09:24:37.119508",
     "exception": false,
     "start_time": "2023-10-25T09:24:36.681503",
     "status": "completed"
    },
    "tags": []
   },
   "outputs": [
    {
     "name": "stdout",
     "output_type": "stream",
     "text": [
      "numpy array is: [11 12 13 14 15]\n",
      "empty series: Series([], dtype: object)\n",
      "pandas series:\n",
      " 0    11\n",
      "1    12\n",
      "2    13\n",
      "3    14\n",
      "4    15\n",
      "dtype: int64\n"
     ]
    }
   ],
   "source": [
    "########################################################################################################\n",
    "#Name : - hiral shingadiya\n",
    "#Enrollment :- 216270307061\n",
    "########################################################################################################\n",
    "\n",
    "#Practical - 6: Write a Pandas program to implement following operation\n",
    "\n",
    "#Practical - 6.1 to convert a NumPy array to a Pandas series\n",
    "\n",
    "import numpy as np\n",
    "import pandas as pd\n",
    "\n",
    "arr=np.array([11,12,13,14,15])\n",
    "print(\"numpy array is:\",arr)\n",
    "\n",
    "s=pd.Series()\n",
    "print(\"empty series:\",s)\n",
    "s=pd.Series(arr)\n",
    "\n",
    "print(\"pandas series:\\n\",s)"
   ]
  },
  {
   "cell_type": "markdown",
   "id": "ce4bc2bb",
   "metadata": {
    "papermill": {
     "duration": 0.002821,
     "end_time": "2023-10-25T09:24:37.127557",
     "exception": false,
     "start_time": "2023-10-25T09:24:37.124736",
     "status": "completed"
    },
    "tags": []
   },
   "source": []
  },
  {
   "cell_type": "code",
   "execution_count": 2,
   "id": "d9eb01c5",
   "metadata": {
    "execution": {
     "iopub.execute_input": "2023-10-25T09:24:37.135829Z",
     "iopub.status.busy": "2023-10-25T09:24:37.135226Z",
     "iopub.status.idle": "2023-10-25T09:24:37.155502Z",
     "shell.execute_reply": "2023-10-25T09:24:37.153981Z"
    },
    "papermill": {
     "duration": 0.027345,
     "end_time": "2023-10-25T09:24:37.157963",
     "exception": false,
     "start_time": "2023-10-25T09:24:37.130618",
     "status": "completed"
    },
    "tags": []
   },
   "outputs": [
    {
     "name": "stdout",
     "output_type": "stream",
     "text": [
      "empty dataframe: Empty DataFrame\n",
      "Columns: []\n",
      "Index: []\n",
      "dataframe is:\n",
      "    a  b\n",
      "0  1  4\n",
      "1  2  5\n",
      "2  3  6\n"
     ]
    }
   ],
   "source": [
    "########################################################################################################\n",
    "#Name : - hiral shingadiya\n",
    "#Enrollment :- 216270307061\n",
    "########################################################################################################\n",
    "\n",
    "#Practical - 6: Write a Pandas program to implement following operation\n",
    "\n",
    "#Practical - 6.2 to convert the first column of a Data-frame as series\n",
    "\n",
    "import pandas as pd\n",
    "\n",
    "df=pd.DataFrame()\n",
    "\n",
    "print(\"empty dataframe:\",df)\n",
    "\n",
    "df=pd.DataFrame({'a':[1,2,3],'b':[4,5,6]})\n",
    "\n",
    "print(\"dataframe is:\\n\",df)\n"
   ]
  },
  {
   "cell_type": "code",
   "execution_count": 3,
   "id": "18734658",
   "metadata": {
    "execution": {
     "iopub.execute_input": "2023-10-25T09:24:37.166563Z",
     "iopub.status.busy": "2023-10-25T09:24:37.165850Z",
     "iopub.status.idle": "2023-10-25T09:24:37.177812Z",
     "shell.execute_reply": "2023-10-25T09:24:37.176356Z"
    },
    "papermill": {
     "duration": 0.019185,
     "end_time": "2023-10-25T09:24:37.180458",
     "exception": false,
     "start_time": "2023-10-25T09:24:37.161273",
     "status": "completed"
    },
    "tags": []
   },
   "outputs": [
    {
     "name": "stdout",
     "output_type": "stream",
     "text": [
      "series is:\n",
      " 0    12\n",
      "1    45\n",
      "2    78\n",
      "3    23\n",
      "4    56\n",
      "5    89\n",
      "6    88\n",
      "dtype: int64\n",
      "\n",
      "mean of s: 55.857142857142854\n",
      "\n",
      "standard deviation of s: 30.93772546815388\n"
     ]
    }
   ],
   "source": [
    "########################################################################################################\n",
    "#Name : - hiral shingadiya\n",
    "#Enrollment :- 216270307061\n",
    "########################################################################################################\n",
    "\n",
    "#Practical - 6: Write a Pandas program to implement following operation\n",
    "\n",
    "#Practical - 6.3 to create the mean and standard deviation of the data of a given series\n",
    "\n",
    "import pandas as pd\n",
    "\n",
    "s=pd.Series([12,45,78,23,56,89,88])\n",
    "\n",
    "print(\"series is:\\n\",s)\n",
    "print(\"\\nmean of s:\",s.mean())\n",
    "print(\"\\nstandard deviation of s:\",s.std())\n"
   ]
  },
  {
   "cell_type": "code",
   "execution_count": 4,
   "id": "06a85456",
   "metadata": {
    "execution": {
     "iopub.execute_input": "2023-10-25T09:24:37.189356Z",
     "iopub.status.busy": "2023-10-25T09:24:37.188569Z",
     "iopub.status.idle": "2023-10-25T09:24:37.200468Z",
     "shell.execute_reply": "2023-10-25T09:24:37.199230Z"
    },
    "papermill": {
     "duration": 0.019136,
     "end_time": "2023-10-25T09:24:37.203080",
     "exception": false,
     "start_time": "2023-10-25T09:24:37.183944",
     "status": "completed"
    },
    "tags": []
   },
   "outputs": [
    {
     "name": "stdout",
     "output_type": "stream",
     "text": [
      "original series: \n",
      " 0     44\n",
      "1     12\n",
      "2     77\n",
      "3     93\n",
      "4     55\n",
      "5     75\n",
      "6     66\n",
      "7    123\n",
      "8     74\n",
      "9      1\n",
      "dtype: int64\n",
      "\n",
      " sorted series is:\n",
      " 9      1\n",
      "1     12\n",
      "0     44\n",
      "4     55\n",
      "6     66\n",
      "8     74\n",
      "5     75\n",
      "2     77\n",
      "3     93\n",
      "7    123\n",
      "dtype: int64\n"
     ]
    }
   ],
   "source": [
    "########################################################################################################\n",
    "#Name : - hiral shingadiya\n",
    "#Enrollment :- 216270307061\n",
    "########################################################################################################\n",
    "\n",
    "#Practical - 6 : Write a Pandas program to implement following operation\n",
    "#Practical - 6.4 to sort a given series\n",
    "\n",
    "import pandas as pd\n",
    "\n",
    "s=pd.Series([44,12,77,93,55,75,66,123,74,1])\n",
    "\n",
    "print(\"original series: \\n\",s)\n",
    "print(\"\\n sorted series is:\\n\",s.sort_values())\n"
   ]
  },
  {
   "cell_type": "code",
   "execution_count": null,
   "id": "08a57b57",
   "metadata": {
    "papermill": {
     "duration": 0.003379,
     "end_time": "2023-10-25T09:24:37.210241",
     "exception": false,
     "start_time": "2023-10-25T09:24:37.206862",
     "status": "completed"
    },
    "tags": []
   },
   "outputs": [],
   "source": []
  }
 ],
 "metadata": {
  "kernelspec": {
   "display_name": "Python 3",
   "language": "python",
   "name": "python3"
  },
  "language_info": {
   "codemirror_mode": {
    "name": "ipython",
    "version": 3
   },
   "file_extension": ".py",
   "mimetype": "text/x-python",
   "name": "python",
   "nbconvert_exporter": "python",
   "pygments_lexer": "ipython3",
   "version": "3.10.12"
  },
  "papermill": {
   "default_parameters": {},
   "duration": 4.865015,
   "end_time": "2023-10-25T09:24:37.734401",
   "environment_variables": {},
   "exception": null,
   "input_path": "__notebook__.ipynb",
   "output_path": "__notebook__.ipynb",
   "parameters": {},
   "start_time": "2023-10-25T09:24:32.869386",
   "version": "2.4.0"
  }
 },
 "nbformat": 4,
 "nbformat_minor": 5
}
